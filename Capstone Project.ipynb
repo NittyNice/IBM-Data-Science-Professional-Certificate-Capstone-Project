{
 "cells": [
  {
   "cell_type": "markdown",
   "id": "variable-invention",
   "metadata": {},
   "source": [
    "## Data Science Professional Certificate Capstone Project\n",
    "\n",
    "<i>This notebook will be mainly used for the capstone project.</i>"
   ]
  },
  {
   "cell_type": "code",
   "execution_count": 1,
   "id": "round-camel",
   "metadata": {},
   "outputs": [
    {
     "name": "stdout",
     "output_type": "stream",
     "text": [
      "Hello Capstone Projext Course!\n"
     ]
    }
   ],
   "source": [
    "import pandas as pd\n",
    "import numpy as np\n",
    "\n",
    "print('Hello Capstone Projext Course!')"
   ]
  }
 ],
 "metadata": {
  "hide_input": false,
  "kernelspec": {
   "display_name": "Python 3",
   "language": "python",
   "name": "python3"
  },
  "language_info": {
   "codemirror_mode": {
    "name": "ipython",
    "version": 3
   },
   "file_extension": ".py",
   "mimetype": "text/x-python",
   "name": "python",
   "nbconvert_exporter": "python",
   "pygments_lexer": "ipython3",
   "version": "3.8.5"
  }
 },
 "nbformat": 4,
 "nbformat_minor": 5
}
